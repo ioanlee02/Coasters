{
 "cells": [
  {
   "cell_type": "markdown",
   "metadata": {},
   "source": [
    "GENERAL"
   ]
  },
  {
   "cell_type": "code",
   "execution_count": 65,
   "metadata": {},
   "outputs": [],
   "source": [
    "import math"
   ]
  },
  {
   "cell_type": "code",
   "execution_count": 66,
   "metadata": {},
   "outputs": [],
   "source": [
    "gravity = 9.8"
   ]
  },
  {
   "cell_type": "code",
   "execution_count": 67,
   "metadata": {},
   "outputs": [],
   "source": [
    "def gravitational_force(mass):\n",
    "    \"\"\"\n",
    "    Calculates the value of the gravitational force on an object\n",
    "    \"\"\"\n",
    "    return mass * gravity"
   ]
  },
  {
   "cell_type": "markdown",
   "metadata": {},
   "source": [
    "FORCE ON A ROLLERCOASTER CAR IN A LOOP"
   ]
  },
  {
   "cell_type": "markdown",
   "metadata": {},
   "source": [
    "Individual Steps"
   ]
  },
  {
   "cell_type": "code",
   "execution_count": 68,
   "metadata": {},
   "outputs": [],
   "source": [
    "def acceleration_bottom(velocity_bottom, radius_bottom):\n",
    "    \"\"\"\n",
    "    Calculates the acceleration of the bottom of the loop\n",
    "    \"\"\"\n",
    "    return (velocity_bottom ** 2) / radius_bottom"
   ]
  },
  {
   "cell_type": "code",
   "execution_count": 69,
   "metadata": {},
   "outputs": [],
   "source": [
    "def acceleration_top(velocity_top, radius_top):\n",
    "    \"\"\"\n",
    "    Calculates the acceleration of the bottom of the loop\n",
    "    \"\"\"\n",
    "    return (velocity_top ** 2) / radius_top"
   ]
  },
  {
   "cell_type": "code",
   "execution_count": 70,
   "metadata": {},
   "outputs": [],
   "source": [
    "def net_force_on_car_bottom(mass, acceleration_bottom):\n",
    "    \"\"\"\n",
    "    Calculates the net force on the rollercoaster car at the bottom of the loop\n",
    "    \"\"\"\n",
    "    return mass * acceleration_bottom"
   ]
  },
  {
   "cell_type": "code",
   "execution_count": 71,
   "metadata": {},
   "outputs": [],
   "source": [
    "def net_force_on_car_top(mass, acceleration_top):\n",
    "    \"\"\"\n",
    "    Calculates the net force on the rollercoaster car at the top of the loop\n",
    "    \"\"\"\n",
    "    return mass * acceleration_top"
   ]
  },
  {
   "cell_type": "code",
   "execution_count": 72,
   "metadata": {},
   "outputs": [],
   "source": [
    "def force_on_car_bottom(gravitational_force, net_force_on_car_bottom):\n",
    "    \"\"\"\n",
    "    Calculates the normal force on the car at the bottom of the loop\n",
    "    \"\"\"\n",
    "    return gravitational_force + net_force_on_car_bottom"
   ]
  },
  {
   "cell_type": "code",
   "execution_count": 73,
   "metadata": {},
   "outputs": [],
   "source": [
    "def force_on_car_top(gravitational_force, net_force_on_car_top):\n",
    "    \"\"\"\n",
    "    Calculates the normal force on the car at the top of the loop\n",
    "    \"\"\"\n",
    "    return net_force_on_car_top - gravitational_force"
   ]
  },
  {
   "cell_type": "markdown",
   "metadata": {},
   "source": [
    "Direct Method"
   ]
  },
  {
   "cell_type": "code",
   "execution_count": 74,
   "metadata": {},
   "outputs": [],
   "source": [
    "def force_on_car_direct(mass, velocity_bottom, velocity_top, radius_bottom, radius_top):\n",
    "    \"\"\"\n",
    "    Directly caluclates the normal force on the car at the bottom and then the top of the loop directly\n",
    "    \"\"\"\n",
    "    return (mass * gravity) + (mass * ((velocity_bottom ** 2) / radius_bottom)), (mass * ((velocity_top ** 2) / radius_top)) - (mass * gravity)"
   ]
  },
  {
   "cell_type": "code",
   "execution_count": 75,
   "metadata": {},
   "outputs": [],
   "source": [
    "def force_on_car_acceleration_direct(mass, acceleration_bottom, acceleration_top):\n",
    "    \"\"\"\n",
    "    Directly caluclates the normal force on the car at the bottom and then the top of the loop if the acceleration is already known\n",
    "    \"\"\"\n",
    "    return (mass * gravity) + (mass * acceleration_bottom), (mass * acceleration_top) - (mass * gravity)"
   ]
  },
  {
   "cell_type": "markdown",
   "metadata": {},
   "source": [
    "SPEED REQUIRED TO MAKE IT THROUGH A LOOP"
   ]
  },
  {
   "cell_type": "code",
   "execution_count": 77,
   "metadata": {},
   "outputs": [],
   "source": [
    "def critical_velocity(radius_top):\n",
    "    \"\"\"\n",
    "    Calculates the velocity that is required at the top of the loop for the car to make it thorughout the loop\n",
    "    \"\"\"\n",
    "    return math.sqrt(radius_top * gravity)"
   ]
  }
 ],
 "metadata": {
  "kernelspec": {
   "display_name": "\"Python/Mu (mu_venv-38-20220413-162632)\"",
   "language": "python",
   "name": "mu_venv-38-20220413-162632"
  },
  "language_info": {
   "codemirror_mode": {
    "name": "ipython",
    "version": 3
   },
   "file_extension": ".py",
   "mimetype": "text/x-python",
   "name": "python",
   "nbconvert_exporter": "python",
   "pygments_lexer": "ipython3",
   "version": "3.8.11"
  },
  "orig_nbformat": 4
 },
 "nbformat": 4,
 "nbformat_minor": 2
}
